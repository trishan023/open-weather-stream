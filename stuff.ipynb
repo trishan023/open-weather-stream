{
 "cells": [
  {
   "cell_type": "code",
   "execution_count": null,
   "metadata": {},
   "outputs": [],
   "source": [
    "'''\n",
    "pip install google-cloud-storage requests pandas \n",
    "'''"
   ]
  },
  {
   "attachments": {},
   "cell_type": "markdown",
   "metadata": {},
   "source": [
    "### Prepare source data for country and city list"
   ]
  },
  {
   "cell_type": "code",
   "execution_count": 40,
   "metadata": {},
   "outputs": [
    {
     "name": "stderr",
     "output_type": "stream",
     "text": [
      "/var/folders/xp/gmz6h_zx2v7_p3dr2wvpz23h0000gn/T/ipykernel_64599/209846433.py:4: SettingWithCopyWarning: \n",
      "A value is trying to be set on a copy of a slice from a DataFrame.\n",
      "Try using .loc[row_indexer,col_indexer] = value instead\n",
      "\n",
      "See the caveats in the documentation: https://pandas.pydata.org/pandas-docs/stable/user_guide/indexing.html#returning-a-view-versus-a-copy\n",
      "  country_city['location'] = country_city['city'].str.cat(country_city['country'], sep=', ')\n",
      "/var/folders/xp/gmz6h_zx2v7_p3dr2wvpz23h0000gn/T/ipykernel_64599/209846433.py:7: SettingWithCopyWarning: \n",
      "A value is trying to be set on a copy of a slice from a DataFrame\n",
      "\n",
      "See the caveats in the documentation: https://pandas.pydata.org/pandas-docs/stable/user_guide/indexing.html#returning-a-view-versus-a-copy\n",
      "  country_city.rename(columns={'index': 'id'}, inplace=True)\n"
     ]
    }
   ],
   "source": [
    "\n",
    "df = pd.read_csv('ref/worldcities.csv',sep=',')\n",
    "country_city = df[['country','city']]\n",
    "country_city['location'] = country_city['city'].str.cat(country_city['country'], sep=', ')\n",
    "country_city.sort_values(by=['country', 'city'])\n",
    "country_city.reset_index(inplace=True)\n",
    "country_city.rename(columns={'index': 'id'}, inplace=True)\n",
    "country_city.to_csv('country_city.csv',index=False)"
   ]
  },
  {
   "cell_type": "code",
   "execution_count": 16,
   "metadata": {},
   "outputs": [],
   "source": [
    "import pandas as pd\n",
    "import requests\n",
    "import json\n",
    "\n",
    "def fetch_data(cities: list, unit:str='metric') -> pd.DataFrame:\n",
    "    try:\n",
    "        api_key = '436bcf1b4529dcacc5c6e50841458fc2'\n",
    "        data = []\n",
    "        for city in cities:\n",
    "            response = requests.get(f'http://api.openweathermap.org/data/2.5/weather?q={city}&units={unit}&appid={api_key}')\n",
    "            # Responses can also be fetched using lat and lon. Refer to docs here: https://openweathermap.org/api/one-call-3\n",
    "\n",
    "            # Parse the response\n",
    "            data_json = json.loads(response.text)\n",
    "            data.append(\n",
    "                {\n",
    "                    'id' : data_json['weather'][0]['id'],\n",
    "                    'city' : city,\n",
    "                    'weather_short_desc' : data_json['weather'][0]['main'],\n",
    "                    'temperature' : data_json['main']['temp'],\n",
    "                    'min_temperature' : data_json['main']['temp_min'],\n",
    "                    'max_temperature' : data_json['main']['temp_max'],\n",
    "                    'pressure' : data_json['main']['pressure'],\n",
    "                    'humidity' : data_json['main']['humidity'],\n",
    "                    'wind_speed' : data_json['wind']['speed']\n",
    "                }\n",
    "            )\n",
    "\n",
    "        df = pd.DataFrame(data)\n",
    "\n",
    "        if df.empty():\n",
    "            print('No data found')\n",
    "        else:\n",
    "            print('Responses collected from https://openweathermap.org/api/one-call-3')\n",
    "            print(df.shape)\n",
    "            return df\n",
    "            \n",
    "    except Exception as e:\n",
    "        print(e)\n",
    "    "
   ]
  },
  {
   "cell_type": "code",
   "execution_count": 17,
   "metadata": {},
   "outputs": [
    {
     "name": "stdout",
     "output_type": "stream",
     "text": [
      "'bool' object is not callable\n"
     ]
    }
   ],
   "source": [
    "list_of_cities = []\n",
    "fetch_data(cities=list_of_cities, unit='metric')"
   ]
  },
  {
   "cell_type": "code",
   "execution_count": null,
   "metadata": {},
   "outputs": [],
   "source": []
  },
  {
   "cell_type": "code",
   "execution_count": null,
   "metadata": {},
   "outputs": [],
   "source": []
  }
 ],
 "metadata": {
  "kernelspec": {
   "display_name": "Python 3",
   "language": "python",
   "name": "python3"
  },
  "language_info": {
   "codemirror_mode": {
    "name": "ipython",
    "version": 3
   },
   "file_extension": ".py",
   "mimetype": "text/x-python",
   "name": "python",
   "nbconvert_exporter": "python",
   "pygments_lexer": "ipython3",
   "version": "3.9.6 (default, Oct 18 2022, 12:41:40) \n[Clang 14.0.0 (clang-1400.0.29.202)]"
  },
  "orig_nbformat": 4,
  "vscode": {
   "interpreter": {
    "hash": "31f2aee4e71d21fbe5cf8b01ff0e069b9275f58929596ceb00d14d90e3e16cd6"
   }
  }
 },
 "nbformat": 4,
 "nbformat_minor": 2
}
